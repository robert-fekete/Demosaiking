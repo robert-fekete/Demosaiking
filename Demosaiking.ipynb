{
 "cells": [
  {
   "cell_type": "code",
   "execution_count": 1,
   "metadata": {},
   "outputs": [
    {
     "name": "stderr",
     "output_type": "stream",
     "text": [
      "/anaconda/envs/py35/lib/python3.5/site-packages/h5py/__init__.py:36: FutureWarning: Conversion of the second argument of issubdtype from `float` to `np.floating` is deprecated. In future, it will be treated as `np.float64 == np.dtype(float).type`.\n",
      "  from ._conv import register_converters as _register_converters\n",
      "Using TensorFlow backend.\n"
     ]
    }
   ],
   "source": [
    "import numpy as np\n",
    "import matplotlib.pyplot as plt\n",
    "%matplotlib inline\n",
    "from __future__ import print_function\n",
    "import keras\n",
    "from keras.models import Sequential\n",
    "from keras.layers import Dense, Conv2D, MaxPooling2D, Dropout, Flatten"
   ]
  },
  {
   "cell_type": "markdown",
   "metadata": {},
   "source": [
    "## Import the Data"
   ]
  },
  {
   "cell_type": "code",
   "execution_count": 2,
   "metadata": {},
   "outputs": [],
   "source": [
    "def load_data():\n",
    "    \n",
    "    print(\"Importing data, please wait...\")\n",
    "    import os\n",
    "    import cv2\n",
    "    \n",
    "    root = r\"/home/feketrob/Demosaiking/generated_training_data/\"\n",
    "    \n",
    "    train_images = []\n",
    "    train_truth = []\n",
    "    test_images = []\n",
    "    test_truth = []\n",
    "    \n",
    "    train_set = 0\n",
    "    test_set = 0\n",
    "    train_to_test = 0.8\n",
    "    \n",
    "    for folder in sorted(os.listdir(root)):\n",
    "        \n",
    "        #folder = \"_t\"\n",
    "        path = os.path.join(root, folder)\n",
    "        images = sorted(os.listdir(path))\n",
    "        current_index = 0\n",
    "        \n",
    "        while current_index < len(images):\n",
    "            image_paths = images[current_index: current_index + 3]\n",
    "            image_b = cv2.imread(os.path.join(path, image_paths[0]), 0)\n",
    "            image_g = cv2.imread(os.path.join(path, image_paths[1]), 0)\n",
    "            image_r = cv2.imread(os.path.join(path, image_paths[2]), 0)\n",
    "            image = np.zeros((image_b.shape[0], image_b.shape[1], 3))\n",
    "            image = np.array([image_r, image_g, image_b])\n",
    "            \n",
    "            truth_paths = images[current_index + 3: current_index + 6]\n",
    "            truth_b = cv2.imread(os.path.join(path, truth_paths[0]), 0)\n",
    "            truth_g = cv2.imread(os.path.join(path, truth_paths[1]), 0)\n",
    "            truth_r = cv2.imread(os.path.join(path, truth_paths[2]), 0)\n",
    "            truth = np.zeros((truth_b.shape[0], truth_b.shape[1], 3))\n",
    "            truth = np.array([truth_r, truth_g, truth_b])\n",
    "            #truth = np.array([truth_b, truth_g, truth_r])\n",
    "            \n",
    "            if train_set > train_to_test * (train_set + test_set):\n",
    "                test_images.append(image)\n",
    "                test_truth.append(truth)\n",
    "                test_set += 1\n",
    "            else:\n",
    "                train_images.append(image)\n",
    "                train_truth.append(truth)\n",
    "                train_set += 1\n",
    "            \n",
    "            current_index += 6\n",
    "       \n",
    "    print(\"Import finished. You can stop waiting now.\")\n",
    "    return ((np.asarray(train_images), np.asarray(train_truth)), (np.asarray(test_images), np.asarray(test_truth)))\n",
    "    "
   ]
  },
  {
   "cell_type": "code",
   "execution_count": 3,
   "metadata": {},
   "outputs": [
    {
     "name": "stdout",
     "output_type": "stream",
     "text": [
      "Importing data, please wait...\n",
      "Import finished. You can stop waiting now.\n",
      "[[[  0 160   0 ...   0  65   0]\n",
      "  [  0   0   0 ...   0   0   0]\n",
      "  [  0 149   0 ...   0  70   0]\n",
      "  ...\n",
      "  [  0 149   0 ...   0 102   0]\n",
      "  [  0   0   0 ...   0   0   0]\n",
      "  [  0 162   0 ...   0 102   0]]\n",
      "\n",
      " [[160   0 152 ...  32   0  44]\n",
      "  [  0 157   0 ...   0  31   0]\n",
      "  [138   0 160 ...  40   0  28]\n",
      "  ...\n",
      "  [156   0 146 ...  41   0  42]\n",
      "  [  0 165   0 ...   0  42   0]\n",
      "  [167   0 163 ...  41   0  42]]\n",
      "\n",
      " [[  0   0   0 ...   0   0   0]\n",
      "  [117   0 138 ...  24   0  19]\n",
      "  [  0   0   0 ...   0   0   0]\n",
      "  ...\n",
      "  [  0   0   0 ...   0   0   0]\n",
      "  [129   0 114 ...  21   0  21]\n",
      "  [  0   0   0 ...   0   0   0]]]\n",
      "[[[114  70 173 ...  98  99 100]\n",
      "  [130  91 172 ...  98 102 100]\n",
      "  [127  96 165 ...  97  99 100]\n",
      "  ...\n",
      "  [152 162 157 ... 100 102 103]\n",
      "  [155 162 160 ... 102 103 103]\n",
      "  [148 162 157 ... 103 103 102]]\n",
      "\n",
      " [[117  74 178 ...  42  40  41]\n",
      "  [133  94 176 ...  42  43  41]\n",
      "  [131 100 170 ...  41  40  42]\n",
      "  ...\n",
      "  [154 169 170 ...  41  40  42]\n",
      "  [157 169 173 ...  40  42  42]\n",
      "  [152 169 170 ...  42  42  41]]\n",
      "\n",
      " [[ 98  50 149 ...  26  24  23]\n",
      "  [114  71 150 ...  26  25  23]\n",
      "  [109  76 143 ...  22  22  21]\n",
      "  ...\n",
      "  [128 142 140 ...  23  23  22]\n",
      "  [131 142 143 ...  23  25  22]\n",
      "  [125 142 140 ...  25  25  21]]]\n",
      "[[[  0 103   0 ...   0 157   0]\n",
      "  [  0   0   0 ...   0   0   0]\n",
      "  [  0  97   0 ...   0 169   0]\n",
      "  ...\n",
      "  [  0 107   0 ...   0 166   0]\n",
      "  [  0   0   0 ...   0   0   0]\n",
      "  [  0 105   0 ...   0 166   0]]\n",
      "\n",
      " [[ 49   0  49 ... 182   0 167]\n",
      "  [  0  46   0 ...   0 169   0]\n",
      "  [ 42   0  41 ... 179   0 176]\n",
      "  ...\n",
      "  [ 41   0  42 ... 182   0 177]\n",
      "  [  0  42   0 ...   0 184   0]\n",
      "  [ 41   0  42 ... 185   0 179]]\n",
      "\n",
      " [[  0   0   0 ...   0   0   0]\n",
      "  [ 30   0  29 ... 161   0 140]\n",
      "  [  0   0   0 ...   0   0   0]\n",
      "  ...\n",
      "  [  0   0   0 ...   0   0   0]\n",
      "  [ 24   0  24 ... 160   0 153]\n",
      "  [  0   0   0 ...   0   0   0]]]\n",
      "[[[122 119 114 ...  89 102 145]\n",
      "  [108 117 109 ...  86 118 152]\n",
      "  [112 119 111 ...  83 118 156]\n",
      "  ...\n",
      "  [104 114 115 ... 101  81 106]\n",
      "  [104 112 122 ... 101  85 100]\n",
      "  [104 113 123 ... 103  87  96]]\n",
      "\n",
      " [[ 57  54  52 ...  40  64 131]\n",
      "  [ 43  53  45 ...  38  83 141]\n",
      "  [ 47  52  46 ...  35  80 142]\n",
      "  ...\n",
      "  [ 39  46  50 ...  45  30  82]\n",
      "  [ 39  47  56 ...  45  34  73]\n",
      "  [ 40  45  56 ...  46  35  71]]\n",
      "\n",
      " [[ 41  40  36 ...  21  44 108]\n",
      "  [ 27  37  29 ...  19  59 116]\n",
      "  [ 31  37  30 ...  16  60 119]\n",
      "  ...\n",
      "  [ 23  31  34 ...  26  12  58]\n",
      "  [ 23  31  43 ...  28  16  49]\n",
      "  [ 21  30  41 ...  30  17  47]]]\n"
     ]
    }
   ],
   "source": [
    "#import data\n",
    "\n",
    "((train_images, train_truth), (test_images, test_truth)) = load_data()\n",
    "print(train_images[0])\n",
    "print(train_truth[0])\n",
    "print(test_images[0])\n",
    "print(test_truth[0])"
   ]
  },
  {
   "cell_type": "markdown",
   "metadata": {},
   "source": [
    "## Explore the Data"
   ]
  },
  {
   "cell_type": "code",
   "execution_count": 4,
   "metadata": {},
   "outputs": [
    {
     "name": "stdout",
     "output_type": "stream",
     "text": [
      "Training data shape :  (33601, 3, 33, 33) (33601, 3, 21, 21)\n",
      "Testing data shape :  (8400, 3, 33, 33) (8400, 3, 21, 21)\n"
     ]
    }
   ],
   "source": [
    "print('Training data shape : ', train_images.shape, train_truth.shape)\n",
    "\n",
    "print('Testing data shape : ', test_images.shape, test_truth.shape)\n"
   ]
  },
  {
   "cell_type": "markdown",
   "metadata": {},
   "source": [
    "## Preprocess the Data"
   ]
  },
  {
   "cell_type": "code",
   "execution_count": 34,
   "metadata": {
    "scrolled": true
   },
   "outputs": [
    {
     "name": "stdout",
     "output_type": "stream",
     "text": [
      "(33601, 33, 33, 3)\n",
      "(33601, 21, 21, 3)\n",
      "[0.       0.627451 0.      ]\n",
      "[0.627451 0.       0.      ]\n",
      "[0.         0.59607846 0.        ]\n",
      "[0.         0.         0.45882353]\n",
      "[0.        0.6156863 0.       ]\n",
      "[0.        0.        0.5411765]\n",
      "[0.        0.5411765 0.       ]\n",
      "[0.58431375 0.         0.        ]\n",
      "[0.       0.627451 0.      ]\n",
      "----\n",
      "[0.44705883 0.45882353 0.38431373]\n",
      "[0.27450982 0.2901961  0.19607843]\n",
      "[0.6784314  0.69803923 0.58431375]\n",
      "[0.50980395 0.52156866 0.44705883]\n",
      "[0.35686275 0.36862746 0.2784314 ]\n",
      "[0.6745098 0.6901961 0.5882353]\n",
      "[0.49803922 0.5137255  0.42745098]\n",
      "[0.3764706  0.39215687 0.29803923]\n",
      "[0.64705884 0.6666667  0.56078434]\n",
      "----\n",
      "[0.         0.19215687 0.        ]\n",
      "[0.40392157 0.         0.        ]\n",
      "[0.         0.19215687 0.        ]\n",
      "[0.         0.         0.11764706]\n",
      "[0.         0.18039216 0.        ]\n",
      "[0.         0.         0.11372549]\n",
      "[0.         0.16470589 0.        ]\n",
      "[0.38039216 0.         0.        ]\n",
      "[0.         0.16078432 0.        ]\n",
      "----\n",
      "[0.47843137 0.22352941 0.16078432]\n",
      "[0.46666667 0.21176471 0.15686275]\n",
      "[0.44705883 0.20392157 0.14117648]\n",
      "[0.42352942 0.16862746 0.10588235]\n",
      "[0.45882353 0.20784314 0.14509805]\n",
      "[0.42745098 0.1764706  0.11372549]\n",
      "[0.4392157  0.18431373 0.12156863]\n",
      "[0.46666667 0.20392157 0.14509805]\n",
      "[0.43529412 0.18039216 0.11764706]\n",
      "----\n"
     ]
    },
    {
     "data": {
      "image/png": "[encoded data removed]",
      "text/plain": [
       "<matplotlib.figure.Figure at 0x7ff31759fe10>"
      ]
     },
     "metadata": {},
     "output_type": "display_data"
    }
   ],
   "source": [
    "# Find the shape of input images and create the variable input_shape\n",
    "nDims, nRows,nCols = train_images.shape[1:]\n",
    "input_shape = (nRows, nCols, nDims)\n",
    "train_data = train_images\n",
    "test_data = test_images\n",
    "train_data = np.array([image.swapaxes(0, 2).swapaxes(0, 1) for image in train_images])\n",
    "test_data = np.array([image.swapaxes(0, 2).swapaxes(0, 1) for image in test_images])\n",
    "\n",
    "print(train_data.shape)\n",
    "\n",
    "nDims, nRows,nCols = train_truth.shape[1:]\n",
    "train_truth_data = train_truth\n",
    "test_truth_data = test_truth\n",
    "train_truth_data = np.array([image.swapaxes(0, 2).swapaxes(0, 1) for image in train_truth])\n",
    "test_truth_data = np.array([image.swapaxes(0, 2).swapaxes(0, 1) for image in test_truth])\n",
    "print(train_truth_data.shape)\n",
    "\n",
    "plt.figure(figsize=[4,2])\n",
    "\n",
    "\n",
    "# Display the first image in training data\n",
    "plt.subplot(121)\n",
    "plt.imshow(train_data[0], cmap='gray')\n",
    "plt.title(\"Input\")\n",
    "\n",
    "# Display the first image in testing data\n",
    "plt.subplot(122)\n",
    "plt.imshow(train_truth_data[0], cmap='gray')\n",
    "plt.title(\"Result\")\n",
    "\n",
    "\n",
    "# Change to float datatype\n",
    "train_data = train_data.astype('float32')\n",
    "test_data = test_data.astype('float32')\n",
    "train_truth_data = train_truth_data.astype('float32')\n",
    "test_truth_data = test_truth_data.astype('float32')\n",
    "\n",
    "\n",
    "#print(train_truth_data[0])\n",
    "# Scale the data to lie between 0 to 1\n",
    "train_data /= 255\n",
    "test_data /= 255\n",
    "train_truth_data /= 255\n",
    "test_truth_data /=255\n",
    "\n",
    "def print_data(data):\n",
    "    \n",
    "    for line in data[0][:3]:\n",
    "        for pixel in line[:3]:\n",
    "            print(pixel)\n",
    "    print(\"----\")\n",
    "    \n",
    "print_data(train_data)\n",
    "print_data(train_truth_data)\n",
    "print_data(test_data)\n",
    "print_data(test_truth_data)"
   ]
  },
  {
   "cell_type": "markdown",
   "metadata": {},
   "source": [
    "## Define the model"
   ]
  },
  {
   "cell_type": "code",
   "execution_count": 58,
   "metadata": {},
   "outputs": [],
   "source": [
    "def gkern(kernlen=9, nsig=3):\n",
    "    \"\"\"Returns a 2D Gaussian kernel array.\"\"\"\n",
    "\n",
    "    import scipy.stats as st\n",
    "    \n",
    "    interval = (2*nsig+1.)/(kernlen)\n",
    "    x = np.linspace(-nsig-interval/2., nsig+interval/2., kernlen+1)\n",
    "    kern1d = np.diff(st.norm.cdf(x))\n",
    "    kernel_raw = np.sqrt(np.outer(kern1d, kern1d))\n",
    "    kernel = kernel_raw/kernel_raw.sum()\n",
    "    return kernel\n",
    "\n",
    "\n",
    "def my_init(shape, dtype=None):\n",
    "    \n",
    "    print(shape)\n",
    "    return gkern(shape[0])\n",
    "\n",
    "def createModel():\n",
    "    model = Sequential()\n",
    "    \n",
    "    model.add(Conv2D(128, (9, 9), activation='relu', input_shape=input_shape, kernel_initializer='random_normal'\n",
    "                    ))\n",
    "    \n",
    "    model.add(Conv2D(64, (1, 1), activation='relu'))\n",
    "    model.add(Conv2D(3, (5, 5), kernel_initializer='random_normal'))\n",
    "    \n",
    "    return model"
   ]
  },
  {
   "cell_type": "markdown",
   "metadata": {},
   "source": [
    "## Load model"
   ]
  },
  {
   "cell_type": "code",
   "execution_count": 59,
   "metadata": {},
   "outputs": [],
   "source": [
    "def load_model():\n",
    "    json_file = open(r'/home/feketrob/Demosaiking/models/long/model.json', 'r')\n",
    "    loaded_model_json = json_file.read()\n",
    "    json_file.close()\n",
    "    loaded_model = model_from_json(loaded_model_json)\n",
    "    # load weights into new model\n",
    "    loaded_model.load_weights(r\"/home/feketrob/Demosaiking/models/long/model.h5\")\n",
    "    print(\"Loaded model from disk\")\n",
    "    \n",
    "    "
   ]
  },
  {
   "cell_type": "markdown",
   "metadata": {},
   "source": [
    "## Train the model"
   ]
  },
  {
   "cell_type": "code",
   "execution_count": null,
   "metadata": {},
   "outputs": [
    {
     "name": "stdout",
     "output_type": "stream",
     "text": [
      "_________________________________________________________________\n",
      "Layer (type)                 Output Shape              Param #   \n",
      "=================================================================\n",
      "conv2d_13 (Conv2D)           (None, 25, 25, 128)       31232     \n",
      "_________________________________________________________________\n",
      "conv2d_14 (Conv2D)           (None, 25, 25, 64)        8256      \n",
      "_________________________________________________________________\n",
      "conv2d_15 (Conv2D)           (None, 21, 21, 3)         4803      \n",
      "=================================================================\n",
      "Total params: 44,291\n",
      "Trainable params: 44,291\n",
      "Non-trainable params: 0\n",
      "_________________________________________________________________\n",
      "Train on 33601 samples, validate on 8400 samples\n",
      "Epoch 1/50\n",
      "33601/33601 [==============================] - 7s 215us/step - loss: 0.0146 - acc: 0.6504 - val_loss: 0.0033 - val_acc: 0.7822\n",
      "Epoch 2/50\n",
      "33601/33601 [==============================] - 7s 207us/step - loss: 0.0062 - acc: 0.7236 - val_loss: 0.0037 - val_acc: 0.8321\n",
      "Epoch 3/50\n",
      "33601/33601 [==============================] - 7s 206us/step - loss: 0.0049 - acc: 0.7465 - val_loss: 0.0024 - val_acc: 0.7895\n",
      "Epoch 4/50\n",
      "33601/33601 [==============================] - 7s 208us/step - loss: 0.0040 - acc: 0.7465 - val_loss: 0.0023 - val_acc: 0.7767\n",
      "Epoch 5/50\n",
      "33601/33601 [==============================] - 7s 208us/step - loss: 0.0034 - acc: 0.7628 - val_loss: 0.0036 - val_acc: 0.7507\n",
      "Epoch 6/50\n",
      "33601/33601 [==============================] - 7s 206us/step - loss: 0.0031 - acc: 0.7789 - val_loss: 0.0019 - val_acc: 0.7663\n",
      "Epoch 7/50\n",
      "33601/33601 [==============================] - 7s 213us/step - loss: 0.0028 - acc: 0.7845 - val_loss: 0.0046 - val_acc: 0.7481\n",
      "Epoch 8/50\n",
      "33601/33601 [==============================] - 7s 206us/step - loss: 0.0025 - acc: 0.7929 - val_loss: 0.0029 - val_acc: 0.7619\n",
      "Epoch 9/50\n",
      "33601/33601 [==============================] - 7s 211us/step - loss: 0.0024 - acc: 0.7953 - val_loss: 0.0015 - val_acc: 0.8670\n",
      "Epoch 10/50\n",
      "33601/33601 [==============================] - 7s 209us/step - loss: 0.0022 - acc: 0.8019 - val_loss: 0.0029 - val_acc: 0.6610\n",
      "Epoch 11/50\n",
      "33601/33601 [==============================] - 7s 207us/step - loss: 0.0020 - acc: 0.8045 - val_loss: 0.0026 - val_acc: 0.7967\n",
      "Epoch 12/50\n",
      "33601/33601 [==============================] - 7s 206us/step - loss: 0.0019 - acc: 0.8042 - val_loss: 0.0047 - val_acc: 0.8574\n",
      "Epoch 13/50\n",
      "33601/33601 [==============================] - 7s 209us/step - loss: 0.0017 - acc: 0.8068 - val_loss: 9.4002e-04 - val_acc: 0.8311\n",
      "Epoch 14/50\n",
      "33601/33601 [==============================] - 7s 207us/step - loss: 0.0017 - acc: 0.8130 - val_loss: 0.0013 - val_acc: 0.8434\n",
      "Epoch 15/50\n",
      "33601/33601 [==============================] - 7s 208us/step - loss: 0.0016 - acc: 0.8168 - val_loss: 0.0015 - val_acc: 0.8218\n",
      "Epoch 16/50\n",
      "25344/33601 [=====================>........] - ETA: 1s - loss: 0.0015 - acc: 0.8187"
     ]
    }
   ],
   "source": [
    "train = True\n",
    "if train:\n",
    "    model = createModel()\n",
    "    batch_size = 256\n",
    "    epochs = 50\n",
    "    model.compile(optimizer='rmsprop', loss='mean_squared_error', metrics=['accuracy'])\n",
    "\n",
    "    model.summary()\n",
    "\n",
    "    history = model.fit(train_data, train_truth_data, batch_size=batch_size, epochs=epochs, verbose=1, \n",
    "                       validation_data=(test_data, test_truth_data))\n",
    "    \n",
    "else:\n",
    "    from keras.models import model_from_json\n",
    "    mode = load_model()\n",
    "    model.compile(optimizer='rmsprop', loss='mean_squared_error', metrics=['accuracy'])\n",
    "\n",
    "    \n",
    "model.evaluate(test_data, test_truth_data)"
   ]
  },
  {
   "cell_type": "markdown",
   "metadata": {},
   "source": [
    "## Check the loss and accuracy curves"
   ]
  },
  {
   "cell_type": "code",
   "execution_count": null,
   "metadata": {},
   "outputs": [],
   "source": [
    "if train:\n",
    "    plt.figure(figsize=[8,6])\n",
    "    plt.plot(history.history['loss'],'r',linewidth=3.0)\n",
    "    plt.plot(history.history['val_loss'],'b',linewidth=3.0)\n",
    "    plt.legend(['Training loss', 'Validation Loss'],fontsize=18)\n",
    "    plt.xlabel('Epochs ',fontsize=16)\n",
    "    plt.ylabel('Loss',fontsize=16)\n",
    "    plt.title('Loss Curves',fontsize=16)\n",
    "\n",
    "    plt.figure(figsize=[8,6])\n",
    "    plt.plot(history.history['acc'],'r',linewidth=3.0)\n",
    "    plt.plot(history.history['val_acc'],'b',linewidth=3.0)\n",
    "    plt.legend(['Training Accuracy', 'Validation Accuracy'],fontsize=18)\n",
    "    plt.xlabel('Epochs ',fontsize=16)\n",
    "    plt.ylabel('Accuracy',fontsize=16)\n",
    "    plt.title('Accuracy Curves',fontsize=16)"
   ]
  },
  {
   "cell_type": "markdown",
   "metadata": {},
   "source": [
    "## Save model"
   ]
  },
  {
   "cell_type": "code",
   "execution_count": null,
   "metadata": {},
   "outputs": [],
   "source": [
    "if train:\n",
    "    # Save model\n",
    "    import os\n",
    "    import uuid\n",
    "\n",
    "    models_rep = r\"/home/feketrob/Demosaiking/models\"\n",
    "    folder_name = str(uuid.uuid1())\n",
    "    target_folder = os.path.join(models_rep, folder_name)\n",
    "    os.mkdir(target_folder)\n",
    "\n",
    "    model_json = model.to_json()\n",
    "    with open(os.path.join(target_folder, \"model.json\"), \"w\") as json_file:\n",
    "        json_file.write(model_json)\n",
    "    # serialize weights to HDF5\n",
    "    model.save_weights(os.path.join(target_folder, \"model.h5\"))\n",
    "    print(\"Saved model to disk\")\n",
    "\n",
    "    print(target_folder)"
   ]
  },
  {
   "cell_type": "code",
   "execution_count": null,
   "metadata": {},
   "outputs": [],
   "source": [
    "for index in range(100):\n",
    "    inputf = test_data[index]\n",
    "    #print(inputf)\n",
    "\n",
    "    result = model.predict(np.array([inputf]))[0]\n",
    "    result = np.clip(result, 0, 1)\n",
    "    plt.figure(figsize=[4,2])\n",
    "\n",
    "\n",
    "    # Display the first image in training data\n",
    "    plt.subplot(121)\n",
    "    #plt.imshow(inputf, cmap='gray')\n",
    "    #plt.title(\"Input\")\n",
    "    plt.imshow(test_truth_data[index], cmap='gray')\n",
    "    plt.title(\"Ground truth\")\n",
    "\n",
    "    # Display the first image in testing data\n",
    "    plt.subplot(122)\n",
    "    plt.imshow(result, cmap='gray')\n",
    "    plt.title(\"Result\")\n"
   ]
  },
  {
   "cell_type": "code",
   "execution_count": null,
   "metadata": {},
   "outputs": [],
   "source": []
  }
 ],
 "metadata": {
  "kernelspec": {
   "display_name": "Python [conda env:py35]",
   "language": "python",
   "name": "conda-env-py35-py"
  },
  "language_info": {
   "codemirror_mode": {
    "name": "ipython",
    "version": 3
   },
   "file_extension": ".py",
   "mimetype": "text/x-python",
   "name": "python",
   "nbconvert_exporter": "python",
   "pygments_lexer": "ipython3",
   "version": "3.5.4"
  }
 },
 "nbformat": 4,
 "nbformat_minor": 2
}
