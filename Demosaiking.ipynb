{
 "cells": [
  {
   "cell_type": "code",
   "execution_count": 1,
   "metadata": {},
   "outputs": [
    {
     "name": "stderr",
     "output_type": "stream",
     "text": [
      "/anaconda/envs/py35/lib/python3.5/site-packages/h5py/__init__.py:36: FutureWarning: Conversion of the second argument of issubdtype from `float` to `np.floating` is deprecated. In future, it will be treated as `np.float64 == np.dtype(float).type`.\n",
      "  from ._conv import register_converters as _register_converters\n",
      "Using TensorFlow backend.\n"
     ]
    }
   ],
   "source": [
    "import numpy as np\n",
    "import matplotlib.pyplot as plt\n",
    "%matplotlib inline\n",
    "from __future__ import print_function\n",
    "import keras\n",
    "from keras.models import Sequential\n",
    "from keras.layers import Dense, Conv2D, MaxPooling2D, Dropout, Flatten"
   ]
  },
  {
   "cell_type": "markdown",
   "metadata": {},
   "source": [
    "## Import the Data"
   ]
  },
  {
   "cell_type": "code",
   "execution_count": null,
   "metadata": {},
   "outputs": [],
   "source": [
    "def load_data():\n",
    "    \n",
    "    print(\"Importing data, please wait...\")\n",
    "    import os\n",
    "    import cv2\n",
    "    \n",
    "    root = r\"/home/feketrob/Demosaiking/generated_training_data/\"\n",
    "    \n",
    "    train_images = []\n",
    "    train_truth = []\n",
    "    test_images = []\n",
    "    test_truth = []\n",
    "    \n",
    "    train_set = 0\n",
    "    test_set = 0\n",
    "    train_to_test = 0.8\n",
    "    \n",
    "    for folder in sorted(os.listdir(root)):\n",
    "        \n",
    "        #folder = \"_t\"\n",
    "        path = os.path.join(root, folder)\n",
    "        images = sorted(os.listdir(path))\n",
    "        current_index = 0\n",
    "        \n",
    "        while current_index < len(images):\n",
    "            image_paths = images[current_index: current_index + 3]\n",
    "            image_b = cv2.imread(os.path.join(path, image_paths[0]), 0)\n",
    "            image_g = cv2.imread(os.path.join(path, image_paths[1]), 0)\n",
    "            image_r = cv2.imread(os.path.join(path, image_paths[2]), 0)\n",
    "            image = np.zeros((image_b.shape[0], image_b.shape[1], 3))\n",
    "            image = np.array([image_r, image_g, image_b])\n",
    "            \n",
    "            truth_paths = images[current_index + 3: current_index + 6]\n",
    "            truth_b = cv2.imread(os.path.join(path, truth_paths[0]), 0)\n",
    "            truth_g = cv2.imread(os.path.join(path, truth_paths[1]), 0)\n",
    "            truth_r = cv2.imread(os.path.join(path, truth_paths[2]), 0)\n",
    "            truth = np.zeros((truth_b.shape[0], truth_b.shape[1], 3))\n",
    "            truth = np.array([truth_r, truth_g, truth_b])\n",
    "            #truth = np.array([truth_b, truth_g, truth_r])\n",
    "            \n",
    "            if train_set > train_to_test * (train_set + test_set):\n",
    "                test_images.append(image)\n",
    "                test_truth.append(truth)\n",
    "                test_set += 1\n",
    "            else:\n",
    "                train_images.append(image)\n",
    "                train_truth.append(truth)\n",
    "                train_set += 1\n",
    "            \n",
    "            current_index += 6\n",
    "       \n",
    "    print(\"Import finished. You can stop waiting now.\")\n",
    "    return ((np.asarray(train_images), np.asarray(train_truth)), (np.asarray(test_images), np.asarray(test_truth)))\n",
    "    "
   ]
  },
  {
   "cell_type": "code",
   "execution_count": null,
   "metadata": {},
   "outputs": [
    {
     "name": "stdout",
     "output_type": "stream",
     "text": [
      "Importing data, please wait...\n"
     ]
    }
   ],
   "source": [
    "#import data\n",
    "\n",
    "((train_images, train_truth), (test_images, test_truth)) = load_data()\n",
    "print(train_images[0])\n",
    "print(train_truth[0])\n",
    "print(test_images[0])\n",
    "print(test_truth[0])"
   ]
  },
  {
   "cell_type": "markdown",
   "metadata": {},
   "source": [
    "## Explore the Data"
   ]
  },
  {
   "cell_type": "code",
   "execution_count": null,
   "metadata": {},
   "outputs": [],
   "source": [
    "print('Training data shape : ', train_images.shape, train_truth.shape)\n",
    "\n",
    "print('Testing data shape : ', test_images.shape, test_truth.shape)\n"
   ]
  },
  {
   "cell_type": "markdown",
   "metadata": {},
   "source": [
    "## Preprocess the Data"
   ]
  },
  {
   "cell_type": "code",
   "execution_count": null,
   "metadata": {
    "scrolled": true
   },
   "outputs": [],
   "source": [
    "# Find the shape of input images and create the variable input_shape\n",
    "nDims, nRows,nCols = train_images.shape[1:]\n",
    "input_shape = (nRows, nCols, nDims)\n",
    "train_data = train_images\n",
    "test_data = test_images\n",
    "train_data = np.array([image.swapaxes(0, 2).swapaxes(0, 1) for image in train_images])\n",
    "test_data = np.array([image.swapaxes(0, 2).swapaxes(0, 1) for image in test_images])\n",
    "\n",
    "print(train_data.shape)\n",
    "\n",
    "nDims, nRows,nCols = train_truth.shape[1:]\n",
    "train_truth_data = train_truth\n",
    "test_truth_data = test_truth\n",
    "train_truth_data = np.array([image.swapaxes(0, 2).swapaxes(0, 1) for image in train_truth])\n",
    "test_truth_data = np.array([image.swapaxes(0, 2).swapaxes(0, 1) for image in test_truth])\n",
    "print(train_truth_data.shape)\n",
    "\n",
    "plt.figure(figsize=[4,2])\n",
    "\n",
    "\n",
    "# Display the first image in training data\n",
    "plt.subplot(121)\n",
    "plt.imshow(train_data[0], cmap='gray')\n",
    "plt.title(\"Input\")\n",
    "\n",
    "# Display the first image in testing data\n",
    "plt.subplot(122)\n",
    "plt.imshow(train_truth_data[0], cmap='gray')\n",
    "plt.title(\"Result\")\n",
    "\n",
    "\n",
    "# Change to float datatype\n",
    "train_data = train_data.astype('float32')\n",
    "test_data = test_data.astype('float32')\n",
    "train_truth_data = train_truth_data.astype('float32')\n",
    "test_truth_data = test_truth_data.astype('float32')\n",
    "\n",
    "\n",
    "print(train_truth_data[0])\n",
    "# Scale the data to lie between 0 to 1\n",
    "train_data /= 255\n",
    "test_data /= 255\n",
    "train_truth_data /= 255\n",
    "test_truth_data /=255\n",
    "\n",
    "def print_data(data):\n",
    "    \n",
    "    for line in data[0][:3]:\n",
    "        for pixel in line[:3]:\n",
    "            print(pixel)\n",
    "    print(\"----\")\n",
    "    \n",
    "print_data(train_data)\n",
    "print_data(train_truth_data)\n",
    "print_data(test_data)\n",
    "print_data(test_truth_data)"
   ]
  },
  {
   "cell_type": "markdown",
   "metadata": {},
   "source": [
    "## Define the model"
   ]
  },
  {
   "cell_type": "code",
   "execution_count": null,
   "metadata": {},
   "outputs": [],
   "source": [
    "def gkern(kernlen=9, nsig=3):\n",
    "    \"\"\"Returns a 2D Gaussian kernel array.\"\"\"\n",
    "\n",
    "    import scipy.stats as st\n",
    "    \n",
    "    interval = (2*nsig+1.)/(kernlen)\n",
    "    x = np.linspace(-nsig-interval/2., nsig+interval/2., kernlen+1)\n",
    "    kern1d = np.diff(st.norm.cdf(x))\n",
    "    kernel_raw = np.sqrt(np.outer(kern1d, kern1d))\n",
    "    kernel = kernel_raw/kernel_raw.sum()\n",
    "    return kernel\n",
    "\n",
    "\n",
    "def my_init(shape, dtype=None):\n",
    "    \n",
    "    print(shape)\n",
    "    return gkern(shape[0])\n",
    "\n",
    "def createModel():\n",
    "    model = Sequential()\n",
    "    \n",
    "    model.add(Conv2D(128, (9, 9), activation='relu', input_shape=input_shape,\n",
    "                    ))\n",
    "    \n",
    "    model.add(Conv2D(64, (1, 1), activation='relu'))\n",
    "    model.add(Conv2D(3, (5, 5), activation='relu'))\n",
    "    \n",
    "    return model"
   ]
  },
  {
   "cell_type": "markdown",
   "metadata": {},
   "source": [
    "## Load model"
   ]
  },
  {
   "cell_type": "code",
   "execution_count": null,
   "metadata": {},
   "outputs": [],
   "source": [
    "def load_model():\n",
    "    json_file = open(r'/home/feketrob/Demosaiking/models/long/model.json', 'r')\n",
    "    loaded_model_json = json_file.read()\n",
    "    json_file.close()\n",
    "    loaded_model = model_from_json(loaded_model_json)\n",
    "    # load weights into new model\n",
    "    loaded_model.load_weights(r\"/home/feketrob/Demosaiking/models/long/model.h5\")\n",
    "    print(\"Loaded model from disk\")\n",
    "    \n",
    "    "
   ]
  },
  {
   "cell_type": "markdown",
   "metadata": {},
   "source": [
    "## Train the model"
   ]
  },
  {
   "cell_type": "code",
   "execution_count": null,
   "metadata": {},
   "outputs": [],
   "source": [
    "train = True\n",
    "if train:\n",
    "    model = createModel()\n",
    "    batch_size = 256\n",
    "    epochs = 10\n",
    "    model.compile(optimizer='rmsprop', loss='mean_squared_error', metrics=['accuracy'])\n",
    "\n",
    "    model.summary()\n",
    "\n",
    "    history = model.fit(train_data, train_truth_data, batch_size=batch_size, epochs=epochs, verbose=1, \n",
    "                       validation_data=(test_data, test_truth_data))\n",
    "    \n",
    "else:\n",
    "    from keras.models import model_from_json\n",
    "    mode = load_model()\n",
    "    model.compile(optimizer='rmsprop', loss='mean_squared_error', metrics=['accuracy'])\n",
    "\n",
    "    \n",
    "model.evaluate(test_data, test_truth_data)"
   ]
  },
  {
   "cell_type": "markdown",
   "metadata": {},
   "source": [
    "## Check the loss and accuracy curves"
   ]
  },
  {
   "cell_type": "code",
   "execution_count": null,
   "metadata": {},
   "outputs": [],
   "source": [
    "if train:\n",
    "    plt.figure(figsize=[8,6])\n",
    "    plt.plot(history.history['loss'],'r',linewidth=3.0)\n",
    "    plt.plot(history.history['val_loss'],'b',linewidth=3.0)\n",
    "    plt.legend(['Training loss', 'Validation Loss'],fontsize=18)\n",
    "    plt.xlabel('Epochs ',fontsize=16)\n",
    "    plt.ylabel('Loss',fontsize=16)\n",
    "    plt.title('Loss Curves',fontsize=16)\n",
    "\n",
    "    plt.figure(figsize=[8,6])\n",
    "    plt.plot(history.history['acc'],'r',linewidth=3.0)\n",
    "    plt.plot(history.history['val_acc'],'b',linewidth=3.0)\n",
    "    plt.legend(['Training Accuracy', 'Validation Accuracy'],fontsize=18)\n",
    "    plt.xlabel('Epochs ',fontsize=16)\n",
    "    plt.ylabel('Accuracy',fontsize=16)\n",
    "    plt.title('Accuracy Curves',fontsize=16)"
   ]
  },
  {
   "cell_type": "markdown",
   "metadata": {},
   "source": [
    "## Save model"
   ]
  },
  {
   "cell_type": "code",
   "execution_count": null,
   "metadata": {},
   "outputs": [],
   "source": [
    "if train:\n",
    "    # Save model\n",
    "    import os\n",
    "    import uuid\n",
    "\n",
    "    models_rep = r\"/home/feketrob/Demosaiking/models\"\n",
    "    folder_name = str(uuid.uuid1())\n",
    "    target_folder = os.path.join(models_rep, folder_name)\n",
    "    os.mkdir(target_folder)\n",
    "\n",
    "    model_json = model.to_json()\n",
    "    with open(os.path.join(target_folder, \"model.json\"), \"w\") as json_file:\n",
    "        json_file.write(model_json)\n",
    "    # serialize weights to HDF5\n",
    "    model.save_weights(os.path.join(target_folder, \"model.h5\"))\n",
    "    print(\"Saved model to disk\")\n",
    "\n",
    "    print(target_folder)"
   ]
  },
  {
   "cell_type": "code",
   "execution_count": null,
   "metadata": {},
   "outputs": [],
   "source": [
    "\n",
    "inputf = test_data[0]\n",
    "\n",
    "result = model.predict(np.array([inputf]))\n",
    "inputf *= 255\n",
    "result *= 255\n",
    "\n",
    "inputf = inputf.astype(\"int32\")\n",
    "result = result.astype(\"int32\")\n",
    "\n",
    "print(inputf)\n",
    "print(result)\n",
    "plt.figure(figsize=[4,2])\n",
    "\n",
    "\n",
    "# Display the first image in training data\n",
    "plt.subplot(121)\n",
    "plt.imshow(inputf, cmap='gray')\n",
    "plt.title(\"Input\")\n",
    "\n",
    "# Display the first image in testing data\n",
    "plt.subplot(122)\n",
    "plt.imshow(result[0], cmap='gray')\n",
    "plt.title(\"Result\")"
   ]
  },
  {
   "cell_type": "code",
   "execution_count": null,
   "metadata": {},
   "outputs": [],
   "source": []
  }
 ],
 "metadata": {
  "kernelspec": {
   "display_name": "Python [conda env:py35]",
   "language": "python",
   "name": "conda-env-py35-py"
  },
  "language_info": {
   "codemirror_mode": {
    "name": "ipython",
    "version": 3
   },
   "file_extension": ".py",
   "mimetype": "text/x-python",
   "name": "python",
   "nbconvert_exporter": "python",
   "pygments_lexer": "ipython3",
   "version": "3.5.4"
  }
 },
 "nbformat": 4,
 "nbformat_minor": 2
}
