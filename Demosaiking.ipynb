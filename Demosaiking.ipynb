{
 "cells": [
  {
   "cell_type": "code",
   "execution_count": 287,
   "metadata": {},
   "outputs": [],
   "source": [
    "import numpy as np\n",
    "import matplotlib.pyplot as plt\n",
    "%matplotlib inline\n",
    "from __future__ import print_function\n",
    "import keras\n",
    "from keras.models import Sequential\n",
    "from keras.layers import Dense, Conv2D, MaxPooling2D, Dropout, Flatten"
   ]
  },
  {
   "cell_type": "markdown",
   "metadata": {},
   "source": [
    "## Import the Data"
   ]
  },
  {
   "cell_type": "code",
   "execution_count": 288,
   "metadata": {},
   "outputs": [],
   "source": [
    "def load_data():\n",
    "    \n",
    "    import os\n",
    "    import cv2\n",
    "    \n",
    "    root = r\"/home/feketrob/Demosaiking/generated_training_data/\"\n",
    "    \n",
    "    train_images = []\n",
    "    train_truth = []\n",
    "    test_images = []\n",
    "    test_truth = []\n",
    "    \n",
    "    train_set = 0\n",
    "    test_set = 0\n",
    "    train_to_test = 0.8\n",
    "    \n",
    "    for folder in sorted(os.listdir(root)):\n",
    "        \n",
    "        path = os.path.join(root, folder)\n",
    "        images = sorted(os.listdir(path))\n",
    "        current_index = 0\n",
    "        \n",
    "        while current_index < len(images):\n",
    "            image_paths = images[current_index: current_index + 3]\n",
    "            image_b = cv2.imread(os.path.join(path, image_paths[0]), 0)\n",
    "            image_g = cv2.imread(os.path.join(path, image_paths[1]), 0)\n",
    "            image_r = cv2.imread(os.path.join(path, image_paths[2]), 0)\n",
    "            image = np.zeros((image_b.shape[0], image_b.shape[1], 3))\n",
    "            image = np.array([image_r, image_g, image_b])\n",
    "            \n",
    "            truth_paths = images[current_index + 3: current_index + 6]\n",
    "            truth_b = cv2.imread(os.path.join(path, truth_paths[0]), 0)\n",
    "            truth_g = cv2.imread(os.path.join(path, truth_paths[1]), 0)\n",
    "            truth_r = cv2.imread(os.path.join(path, truth_paths[2]), 0)\n",
    "            truth = np.zeros((truth_b.shape[0], truth_b.shape[1], 3))\n",
    "            truth = np.array([truth_r, truth_g, truth_b])\n",
    "            \n",
    "            if train_set > train_to_test * (train_set + test_set):\n",
    "                test_images.append(image)\n",
    "                test_truth.append(truth)\n",
    "                test_set += 1\n",
    "            else:\n",
    "                train_images.append(image)\n",
    "                train_truth.append(truth)\n",
    "                train_set += 1\n",
    "            \n",
    "            current_index += 6\n",
    "            \n",
    "    return ((np.asarray(train_images), np.asarray(train_truth)), (np.asarray(test_images), np.asarray(test_truth)))\n",
    "    "
   ]
  },
  {
   "cell_type": "code",
   "execution_count": 289,
   "metadata": {},
   "outputs": [],
   "source": [
    "#import data\n",
    "\n",
    "((train_images, train_truth), (test_images, test_truth)) = load_data()"
   ]
  },
  {
   "cell_type": "markdown",
   "metadata": {},
   "source": [
    "## Explore the Data"
   ]
  },
  {
   "cell_type": "code",
   "execution_count": 290,
   "metadata": {},
   "outputs": [
    {
     "name": "stdout",
     "output_type": "stream",
     "text": [
      "Training data shape :  (3360, 3, 33, 33) (3360, 3, 21, 21)\n",
      "Testing data shape :  (840, 3, 33, 33) (840, 3, 21, 21)\n"
     ]
    }
   ],
   "source": [
    "print('Training data shape : ', train_images.shape, train_truth.shape)\n",
    "\n",
    "print('Testing data shape : ', test_images.shape, test_truth.shape)\n"
   ]
  },
  {
   "cell_type": "markdown",
   "metadata": {},
   "source": [
    "## Preprocess the Data"
   ]
  },
  {
   "cell_type": "code",
   "execution_count": 291,
   "metadata": {},
   "outputs": [
    {
     "name": "stdout",
     "output_type": "stream",
     "text": [
      "(3360, 33, 33, 3)\n",
      "(3360, 21, 21, 3)\n"
     ]
    }
   ],
   "source": [
    "# Find the shape of input images and create the variable input_shape\n",
    "nDims, nRows,nCols = train_images.shape[1:]\n",
    "input_shape = (nRows, nCols, nDims)\n",
    "train_data = train_images\n",
    "test_data = test_images\n",
    "train_data = train_images.reshape(train_images.shape[0], nRows, nCols, nDims)\n",
    "test_data = test_images.reshape(test_images.shape[0], nRows, nCols, nDims)\n",
    "\n",
    "print(train_data.shape)\n",
    "\n",
    "nDims, nRows,nCols = train_truth.shape[1:]\n",
    "train_truth_data = train_truth\n",
    "test_truth_data = test_truth\n",
    "train_truth_data = train_truth.reshape(train_truth.shape[0], nRows, nCols, nDims)\n",
    "test_truth_data = test_truth.reshape(test_truth.shape[0], nRows, nCols, nDims)\n",
    "print(train_truth_data.shape)\n",
    "\n",
    "# Change to float datatype\n",
    "train_data = train_data.astype('float32')\n",
    "test_data = test_data.astype('float32')\n",
    "train_truth_data = train_truth_data.astype('float32')\n",
    "test_truth_data = test_truth_data.astype('float32')\n",
    "\n",
    "# Scale the data to lie between 0 to 1\n",
    "train_data /= 255\n",
    "test_data /= 255\n",
    "train_truth_data /= 255\n",
    "test_truth_data /=255"
   ]
  },
  {
   "cell_type": "markdown",
   "metadata": {},
   "source": [
    "## Define the model"
   ]
  },
  {
   "cell_type": "code",
   "execution_count": null,
   "metadata": {},
   "outputs": [],
   "source": [
    "def gkern(kernlen=9, nsig=3):\n",
    "    \"\"\"Returns a 2D Gaussian kernel array.\"\"\"\n",
    "\n",
    "    import scipy.stats as st\n",
    "    \n",
    "    interval = (2*nsig+1.)/(kernlen)\n",
    "    x = np.linspace(-nsig-interval/2., nsig+interval/2., kernlen+1)\n",
    "    kern1d = np.diff(st.norm.cdf(x))\n",
    "    kernel_raw = np.sqrt(np.outer(kern1d, kern1d))\n",
    "    kernel = kernel_raw/kernel_raw.sum()\n",
    "    return kernel\n",
    "\n",
    "\n",
    "def my_init(shape, dtype=None):\n",
    "    \n",
    "    print(shape)\n",
    "    return gkern(shape[0])\n",
    "\n",
    "def createModel():\n",
    "    model = Sequential()\n",
    "    \n",
    "    model.add(Conv2D(128, (9, 9), activation='relu', input_shape=input_shape,\n",
    "                    ))\n",
    "    \n",
    "    model.add(Conv2D(64, (1, 1), activation='relu'))\n",
    "    model.add(Conv2D(3, (5, 5), activation='relu'))\n",
    "    \n",
    "    return model"
   ]
  },
  {
   "cell_type": "markdown",
   "metadata": {},
   "source": [
    "## Train the model"
   ]
  },
  {
   "cell_type": "code",
   "execution_count": null,
   "metadata": {},
   "outputs": [
    {
     "name": "stdout",
     "output_type": "stream",
     "text": [
      "_________________________________________________________________\n",
      "Layer (type)                 Output Shape              Param #   \n",
      "=================================================================\n",
      "conv2d_43 (Conv2D)           (None, 25, 25, 128)       31232     \n",
      "_________________________________________________________________\n",
      "conv2d_44 (Conv2D)           (None, 25, 25, 64)        8256      \n",
      "_________________________________________________________________\n",
      "conv2d_45 (Conv2D)           (None, 21, 21, 3)         4803      \n",
      "=================================================================\n",
      "Total params: 44,291\n",
      "Trainable params: 44,291\n",
      "Non-trainable params: 0\n",
      "_________________________________________________________________\n",
      "Train on 3360 samples, validate on 840 samples\n",
      "Epoch 1/50\n",
      "3360/3360 [==============================] - 71s 21ms/step - loss: nan - acc: 0.4277 - val_loss: nan - val_acc: 0.4451\n",
      "Epoch 2/50\n",
      "3360/3360 [==============================] - 70s 21ms/step - loss: nan - acc: 0.4431 - val_loss: nan - val_acc: 0.4451\n",
      "Epoch 3/50\n",
      "3360/3360 [==============================] - 69s 21ms/step - loss: nan - acc: 0.4431 - val_loss: nan - val_acc: 0.4451\n",
      "Epoch 4/50\n",
      "3360/3360 [==============================] - 69s 20ms/step - loss: nan - acc: 0.4431 - val_loss: nan - val_acc: 0.4451\n",
      "Epoch 5/50\n",
      "2560/3360 [=====================>........] - ETA: 14s - loss: nan - acc: 0.4421"
     ]
    }
   ],
   "source": [
    "model1 = createModel()\n",
    "batch_size = 256\n",
    "epochs = 50\n",
    "model1.compile(optimizer='rmsprop', loss='categorical_crossentropy', metrics=['accuracy'])\n",
    "\n",
    "model1.summary()\n",
    "\n",
    "history = model1.fit(train_data, train_truth_data, batch_size=batch_size, epochs=epochs, verbose=1, \n",
    "                   validation_data=(test_data, test_truth_data))\n",
    "model1.evaluate(test_data, test_truth_data)"
   ]
  },
  {
   "cell_type": "markdown",
   "metadata": {},
   "source": [
    "## Check the loss and accuracy curves"
   ]
  },
  {
   "cell_type": "code",
   "execution_count": null,
   "metadata": {},
   "outputs": [],
   "source": [
    "plt.figure(figsize=[8,6])\n",
    "plt.plot(history.history['loss'],'r',linewidth=3.0)\n",
    "plt.plot(history.history['val_loss'],'b',linewidth=3.0)\n",
    "plt.legend(['Training loss', 'Validation Loss'],fontsize=18)\n",
    "plt.xlabel('Epochs ',fontsize=16)\n",
    "plt.ylabel('Loss',fontsize=16)\n",
    "plt.title('Loss Curves',fontsize=16)\n",
    "\n",
    "plt.figure(figsize=[8,6])\n",
    "plt.plot(history.history['acc'],'r',linewidth=3.0)\n",
    "plt.plot(history.history['val_acc'],'b',linewidth=3.0)\n",
    "plt.legend(['Training Accuracy', 'Validation Accuracy'],fontsize=18)\n",
    "plt.xlabel('Epochs ',fontsize=16)\n",
    "plt.ylabel('Accuracy',fontsize=16)\n",
    "plt.title('Accuracy Curves',fontsize=16)"
   ]
  },
  {
   "cell_type": "markdown",
   "metadata": {},
   "source": [
    "## Save model"
   ]
  },
  {
   "cell_type": "code",
   "execution_count": null,
   "metadata": {},
   "outputs": [],
   "source": [
    "# Save model\n",
    "import os\n",
    "import uuid\n",
    "\n",
    "models_rep = r\"/home/feketrob/Demosaiking/models\"\n",
    "folder_name = str(uuid.uuid1())\n",
    "target_folder = os.path.join(models_rep, folder_name)\n",
    "os.mkdir(target_folder)\n",
    "\n",
    "model_json = model.to_json()\n",
    "with open(os.path.join(target_folder, \"model.json\"), \"w\") as json_file:\n",
    "    json_file.write(model_json)\n",
    "# serialize weights to HDF5\n",
    "model.save_weights(os.path.join(target_folder, \"model.h5\"))\n",
    "print(\"Saved model to disk\")\n",
    "\n",
    "print(target_folder)"
   ]
  }
 ],
 "metadata": {
  "kernelspec": {
   "display_name": "Python [conda env:py35]",
   "language": "python",
   "name": "conda-env-py35-py"
  },
  "language_info": {
   "codemirror_mode": {
    "name": "ipython",
    "version": 3
   },
   "file_extension": ".py",
   "mimetype": "text/x-python",
   "name": "python",
   "nbconvert_exporter": "python",
   "pygments_lexer": "ipython3",
   "version": "3.5.4"
  }
 },
 "nbformat": 4,
 "nbformat_minor": 2
}
